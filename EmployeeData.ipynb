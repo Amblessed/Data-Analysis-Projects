{
 "cells": [
  {
   "cell_type": "code",
   "execution_count": 1,
   "id": "5243c8b2",
   "metadata": {},
   "outputs": [],
   "source": [
    "import pandas as pd"
   ]
  },
  {
   "cell_type": "code",
   "execution_count": 3,
   "id": "0922f06d",
   "metadata": {},
   "outputs": [
    {
     "data": {
      "text/html": [
       "<div>\n",
       "<style scoped>\n",
       "    .dataframe tbody tr th:only-of-type {\n",
       "        vertical-align: middle;\n",
       "    }\n",
       "\n",
       "    .dataframe tbody tr th {\n",
       "        vertical-align: top;\n",
       "    }\n",
       "\n",
       "    .dataframe thead th {\n",
       "        text-align: right;\n",
       "    }\n",
       "</style>\n",
       "<table border=\"1\" class=\"dataframe\">\n",
       "  <thead>\n",
       "    <tr style=\"text-align: right;\">\n",
       "      <th></th>\n",
       "      <th>Emp ID</th>\n",
       "      <th>Name Prefix</th>\n",
       "      <th>First Name</th>\n",
       "      <th>Middle Initial</th>\n",
       "      <th>Last Name</th>\n",
       "      <th>Gender</th>\n",
       "      <th>E Mail</th>\n",
       "      <th>Father's Name</th>\n",
       "      <th>Mother's Name</th>\n",
       "      <th>Mother's Maiden Name</th>\n",
       "      <th>...</th>\n",
       "      <th>SSN</th>\n",
       "      <th>Phone No.</th>\n",
       "      <th>Place Name</th>\n",
       "      <th>County</th>\n",
       "      <th>City</th>\n",
       "      <th>State</th>\n",
       "      <th>Zip</th>\n",
       "      <th>Region</th>\n",
       "      <th>User Name</th>\n",
       "      <th>Password</th>\n",
       "    </tr>\n",
       "  </thead>\n",
       "  <tbody>\n",
       "    <tr>\n",
       "      <th>0</th>\n",
       "      <td>742048</td>\n",
       "      <td>Drs.</td>\n",
       "      <td>Lizeth</td>\n",
       "      <td>P</td>\n",
       "      <td>Mccoll</td>\n",
       "      <td>F</td>\n",
       "      <td>lizeth.mccoll@ibm.com</td>\n",
       "      <td>Renato Mccoll</td>\n",
       "      <td>Serena Mccoll</td>\n",
       "      <td>Broxton</td>\n",
       "      <td>...</td>\n",
       "      <td>171-86-6830</td>\n",
       "      <td>216-703-2865</td>\n",
       "      <td>Alliance</td>\n",
       "      <td>Stark</td>\n",
       "      <td>Alliance</td>\n",
       "      <td>OH</td>\n",
       "      <td>44601</td>\n",
       "      <td>Midwest</td>\n",
       "      <td>lpmccoll</td>\n",
       "      <td>b5CDsd1Mz.</td>\n",
       "    </tr>\n",
       "    <tr>\n",
       "      <th>1</th>\n",
       "      <td>671135</td>\n",
       "      <td>Ms.</td>\n",
       "      <td>Argentina</td>\n",
       "      <td>O</td>\n",
       "      <td>Hern</td>\n",
       "      <td>F</td>\n",
       "      <td>argentina.hern@ntlworld.com</td>\n",
       "      <td>Earl Hern</td>\n",
       "      <td>Chrissy Hern</td>\n",
       "      <td>Tapley</td>\n",
       "      <td>...</td>\n",
       "      <td>083-02-3078</td>\n",
       "      <td>202-572-0136</td>\n",
       "      <td>Washington</td>\n",
       "      <td>District of Columbia</td>\n",
       "      <td>Washington</td>\n",
       "      <td>DC</td>\n",
       "      <td>20411</td>\n",
       "      <td>South</td>\n",
       "      <td>aohern</td>\n",
       "      <td>vsUv&amp;nFc?lM|2-</td>\n",
       "    </tr>\n",
       "    <tr>\n",
       "      <th>2</th>\n",
       "      <td>965851</td>\n",
       "      <td>Mr.</td>\n",
       "      <td>Damian</td>\n",
       "      <td>N</td>\n",
       "      <td>Patillo</td>\n",
       "      <td>M</td>\n",
       "      <td>damian.patillo@outlook.com</td>\n",
       "      <td>Harley Patillo</td>\n",
       "      <td>Lucinda Patillo</td>\n",
       "      <td>Etter</td>\n",
       "      <td>...</td>\n",
       "      <td>326-11-9852</td>\n",
       "      <td>209-784-3915</td>\n",
       "      <td>Burrel</td>\n",
       "      <td>Fresno</td>\n",
       "      <td>Burrel</td>\n",
       "      <td>CA</td>\n",
       "      <td>93607</td>\n",
       "      <td>West</td>\n",
       "      <td>dnpatillo</td>\n",
       "      <td>GQj^c:4#B:F8</td>\n",
       "    </tr>\n",
       "    <tr>\n",
       "      <th>3</th>\n",
       "      <td>224660</td>\n",
       "      <td>Drs.</td>\n",
       "      <td>Imogene</td>\n",
       "      <td>P</td>\n",
       "      <td>Hagopian</td>\n",
       "      <td>F</td>\n",
       "      <td>imogene.hagopian@gmail.com</td>\n",
       "      <td>Delmar Hagopian</td>\n",
       "      <td>Carolina Hagopian</td>\n",
       "      <td>Lockett</td>\n",
       "      <td>...</td>\n",
       "      <td>656-36-0772</td>\n",
       "      <td>210-460-6327</td>\n",
       "      <td>Bryan</td>\n",
       "      <td>Brazos</td>\n",
       "      <td>Bryan</td>\n",
       "      <td>TX</td>\n",
       "      <td>77806</td>\n",
       "      <td>South</td>\n",
       "      <td>iphagopian</td>\n",
       "      <td>d[aHK7aiH&amp;</td>\n",
       "    </tr>\n",
       "    <tr>\n",
       "      <th>4</th>\n",
       "      <td>852694</td>\n",
       "      <td>Mr.</td>\n",
       "      <td>Walker</td>\n",
       "      <td>E</td>\n",
       "      <td>Wallach</td>\n",
       "      <td>M</td>\n",
       "      <td>walker.wallach@aol.com</td>\n",
       "      <td>Gale Wallach</td>\n",
       "      <td>Georgianna Wallach</td>\n",
       "      <td>Creekmore</td>\n",
       "      <td>...</td>\n",
       "      <td>296-15-3535</td>\n",
       "      <td>225-846-1969</td>\n",
       "      <td>Newllano</td>\n",
       "      <td>Vernon</td>\n",
       "      <td>Newllano</td>\n",
       "      <td>LA</td>\n",
       "      <td>71461</td>\n",
       "      <td>South</td>\n",
       "      <td>wewallach</td>\n",
       "      <td>kM\\7h*}7</td>\n",
       "    </tr>\n",
       "    <tr>\n",
       "      <th>...</th>\n",
       "      <td>...</td>\n",
       "      <td>...</td>\n",
       "      <td>...</td>\n",
       "      <td>...</td>\n",
       "      <td>...</td>\n",
       "      <td>...</td>\n",
       "      <td>...</td>\n",
       "      <td>...</td>\n",
       "      <td>...</td>\n",
       "      <td>...</td>\n",
       "      <td>...</td>\n",
       "      <td>...</td>\n",
       "      <td>...</td>\n",
       "      <td>...</td>\n",
       "      <td>...</td>\n",
       "      <td>...</td>\n",
       "      <td>...</td>\n",
       "      <td>...</td>\n",
       "      <td>...</td>\n",
       "      <td>...</td>\n",
       "      <td>...</td>\n",
       "    </tr>\n",
       "    <tr>\n",
       "      <th>4999995</th>\n",
       "      <td>552255</td>\n",
       "      <td>Mr.</td>\n",
       "      <td>Antonio</td>\n",
       "      <td>R</td>\n",
       "      <td>Konopka</td>\n",
       "      <td>M</td>\n",
       "      <td>antonio.konopka@yahoo.com</td>\n",
       "      <td>Esteban Konopka</td>\n",
       "      <td>Kacey Konopka</td>\n",
       "      <td>Acton</td>\n",
       "      <td>...</td>\n",
       "      <td>003-08-6150</td>\n",
       "      <td>316-932-1282</td>\n",
       "      <td>Jewell</td>\n",
       "      <td>Jewell</td>\n",
       "      <td>Jewell</td>\n",
       "      <td>KS</td>\n",
       "      <td>66949</td>\n",
       "      <td>Midwest</td>\n",
       "      <td>arkonopka</td>\n",
       "      <td>e[&lt;1n_\\T7?giPoc</td>\n",
       "    </tr>\n",
       "    <tr>\n",
       "      <th>4999996</th>\n",
       "      <td>515306</td>\n",
       "      <td>Mr.</td>\n",
       "      <td>Darius</td>\n",
       "      <td>O</td>\n",
       "      <td>Krug</td>\n",
       "      <td>M</td>\n",
       "      <td>darius.krug@hotmail.com</td>\n",
       "      <td>Sang Krug</td>\n",
       "      <td>Noriko Krug</td>\n",
       "      <td>Morse</td>\n",
       "      <td>...</td>\n",
       "      <td>629-31-0751</td>\n",
       "      <td>210-544-8916</td>\n",
       "      <td>Houston</td>\n",
       "      <td>Harris</td>\n",
       "      <td>Houston</td>\n",
       "      <td>TX</td>\n",
       "      <td>77271</td>\n",
       "      <td>South</td>\n",
       "      <td>dokrug</td>\n",
       "      <td>bUh[sH3xkN</td>\n",
       "    </tr>\n",
       "    <tr>\n",
       "      <th>4999997</th>\n",
       "      <td>553400</td>\n",
       "      <td>Ms.</td>\n",
       "      <td>Merle</td>\n",
       "      <td>M</td>\n",
       "      <td>Rufus</td>\n",
       "      <td>F</td>\n",
       "      <td>merle.rufus@ibm.com</td>\n",
       "      <td>Ramon Rufus</td>\n",
       "      <td>Patrica Rufus</td>\n",
       "      <td>Ballou</td>\n",
       "      <td>...</td>\n",
       "      <td>438-99-8079</td>\n",
       "      <td>423-442-8681</td>\n",
       "      <td>Yorkville</td>\n",
       "      <td>Gibson</td>\n",
       "      <td>Yorkville</td>\n",
       "      <td>TN</td>\n",
       "      <td>38389</td>\n",
       "      <td>South</td>\n",
       "      <td>mmrufus</td>\n",
       "      <td>BvH$f;Poc</td>\n",
       "    </tr>\n",
       "    <tr>\n",
       "      <th>4999998</th>\n",
       "      <td>824049</td>\n",
       "      <td>Mr.</td>\n",
       "      <td>Fletcher</td>\n",
       "      <td>A</td>\n",
       "      <td>Moncrief</td>\n",
       "      <td>M</td>\n",
       "      <td>fletcher.moncrief@gmail.com</td>\n",
       "      <td>Sydney Moncrief</td>\n",
       "      <td>Marvel Moncrief</td>\n",
       "      <td>Lewis</td>\n",
       "      <td>...</td>\n",
       "      <td>142-23-2317</td>\n",
       "      <td>206-305-4859</td>\n",
       "      <td>Twisp</td>\n",
       "      <td>Okanogan</td>\n",
       "      <td>Twisp</td>\n",
       "      <td>WA</td>\n",
       "      <td>98856</td>\n",
       "      <td>West</td>\n",
       "      <td>famoncrief</td>\n",
       "      <td>WeiGR!+7NNq#</td>\n",
       "    </tr>\n",
       "    <tr>\n",
       "      <th>4999999</th>\n",
       "      <td>135094</td>\n",
       "      <td>Mr.</td>\n",
       "      <td>Dale</td>\n",
       "      <td>Q</td>\n",
       "      <td>Woodall</td>\n",
       "      <td>M</td>\n",
       "      <td>dale.woodall@gmail.com</td>\n",
       "      <td>Trinidad Woodall</td>\n",
       "      <td>Janella Woodall</td>\n",
       "      <td>Alphin</td>\n",
       "      <td>...</td>\n",
       "      <td>173-86-0007</td>\n",
       "      <td>480-695-6859</td>\n",
       "      <td>Winkelman</td>\n",
       "      <td>Gila</td>\n",
       "      <td>Winkelman</td>\n",
       "      <td>AZ</td>\n",
       "      <td>85192</td>\n",
       "      <td>West</td>\n",
       "      <td>dqwoodall</td>\n",
       "      <td>cjucUfxIw5KJh&gt;o</td>\n",
       "    </tr>\n",
       "  </tbody>\n",
       "</table>\n",
       "<p>5000000 rows × 37 columns</p>\n",
       "</div>"
      ],
      "text/plain": [
       "         Emp ID Name Prefix First Name Middle Initial Last Name Gender  \\\n",
       "0        742048        Drs.     Lizeth              P    Mccoll      F   \n",
       "1        671135         Ms.  Argentina              O      Hern      F   \n",
       "2        965851         Mr.     Damian              N   Patillo      M   \n",
       "3        224660        Drs.    Imogene              P  Hagopian      F   \n",
       "4        852694         Mr.     Walker              E   Wallach      M   \n",
       "...         ...         ...        ...            ...       ...    ...   \n",
       "4999995  552255         Mr.    Antonio              R   Konopka      M   \n",
       "4999996  515306         Mr.     Darius              O      Krug      M   \n",
       "4999997  553400         Ms.      Merle              M     Rufus      F   \n",
       "4999998  824049         Mr.   Fletcher              A  Moncrief      M   \n",
       "4999999  135094         Mr.       Dale              Q   Woodall      M   \n",
       "\n",
       "                              E Mail     Father's Name       Mother's Name  \\\n",
       "0              lizeth.mccoll@ibm.com     Renato Mccoll       Serena Mccoll   \n",
       "1        argentina.hern@ntlworld.com         Earl Hern        Chrissy Hern   \n",
       "2         damian.patillo@outlook.com    Harley Patillo     Lucinda Patillo   \n",
       "3         imogene.hagopian@gmail.com   Delmar Hagopian   Carolina Hagopian   \n",
       "4             walker.wallach@aol.com      Gale Wallach  Georgianna Wallach   \n",
       "...                              ...               ...                 ...   \n",
       "4999995    antonio.konopka@yahoo.com   Esteban Konopka       Kacey Konopka   \n",
       "4999996      darius.krug@hotmail.com         Sang Krug         Noriko Krug   \n",
       "4999997          merle.rufus@ibm.com       Ramon Rufus       Patrica Rufus   \n",
       "4999998  fletcher.moncrief@gmail.com   Sydney Moncrief     Marvel Moncrief   \n",
       "4999999       dale.woodall@gmail.com  Trinidad Woodall     Janella Woodall   \n",
       "\n",
       "        Mother's Maiden Name  ...          SSN    Phone No.   Place Name  \\\n",
       "0                    Broxton  ...  171-86-6830  216-703-2865    Alliance   \n",
       "1                     Tapley  ...  083-02-3078  202-572-0136  Washington   \n",
       "2                      Etter  ...  326-11-9852  209-784-3915      Burrel   \n",
       "3                    Lockett  ...  656-36-0772  210-460-6327       Bryan   \n",
       "4                  Creekmore  ...  296-15-3535  225-846-1969    Newllano   \n",
       "...                      ...  ...          ...           ...         ...   \n",
       "4999995                Acton  ...  003-08-6150  316-932-1282      Jewell   \n",
       "4999996                Morse  ...  629-31-0751  210-544-8916     Houston   \n",
       "4999997               Ballou  ...  438-99-8079  423-442-8681   Yorkville   \n",
       "4999998                Lewis  ...  142-23-2317  206-305-4859       Twisp   \n",
       "4999999               Alphin  ...  173-86-0007  480-695-6859   Winkelman   \n",
       "\n",
       "                       County        City State    Zip   Region   User Name  \\\n",
       "0                       Stark    Alliance    OH  44601  Midwest    lpmccoll   \n",
       "1        District of Columbia  Washington    DC  20411    South      aohern   \n",
       "2                      Fresno      Burrel    CA  93607     West   dnpatillo   \n",
       "3                      Brazos       Bryan    TX  77806    South  iphagopian   \n",
       "4                      Vernon    Newllano    LA  71461    South   wewallach   \n",
       "...                       ...         ...   ...    ...      ...         ...   \n",
       "4999995                Jewell      Jewell    KS  66949  Midwest   arkonopka   \n",
       "4999996                Harris     Houston    TX  77271    South      dokrug   \n",
       "4999997                Gibson   Yorkville    TN  38389    South     mmrufus   \n",
       "4999998              Okanogan       Twisp    WA  98856     West  famoncrief   \n",
       "4999999                  Gila   Winkelman    AZ  85192     West   dqwoodall   \n",
       "\n",
       "                Password  \n",
       "0             b5CDsd1Mz.  \n",
       "1         vsUv&nFc?lM|2-  \n",
       "2           GQj^c:4#B:F8  \n",
       "3             d[aHK7aiH&  \n",
       "4               kM\\7h*}7  \n",
       "...                  ...  \n",
       "4999995  e[<1n_\\T7?giPoc  \n",
       "4999996       bUh[sH3xkN  \n",
       "4999997        BvH$f;Poc  \n",
       "4999998     WeiGR!+7NNq#  \n",
       "4999999  cjucUfxIw5KJh>o  \n",
       "\n",
       "[5000000 rows x 37 columns]"
      ]
     },
     "execution_count": 3,
     "metadata": {},
     "output_type": "execute_result"
    }
   ],
   "source": [
    "data = pd.read_csv(\"hr5m.csv\", engine=\"pyarrow\")\n",
    "data"
   ]
  },
  {
   "cell_type": "code",
   "execution_count": 4,
   "id": "9025be61",
   "metadata": {},
   "outputs": [
    {
     "data": {
      "text/plain": [
       "(5000000, 37)"
      ]
     },
     "execution_count": 4,
     "metadata": {},
     "output_type": "execute_result"
    }
   ],
   "source": [
    "data.shape"
   ]
  },
  {
   "cell_type": "code",
   "execution_count": 5,
   "id": "c697ef2e",
   "metadata": {},
   "outputs": [
    {
     "data": {
      "text/plain": [
       "array(['Emp ID', 'Name Prefix', 'First Name', 'Middle Initial',\n",
       "       'Last Name', 'Gender', 'E Mail', \"Father's Name\", \"Mother's Name\",\n",
       "       \"Mother's Maiden Name\", 'Date of Birth', 'Time of Birth',\n",
       "       'Age in Yrs.', 'Weight in Kgs.', 'Date of Joining',\n",
       "       'Quarter of Joining', 'Half of Joining', 'Year of Joining',\n",
       "       'Month of Joining', 'Month Name of Joining', 'Short Month',\n",
       "       'Day of Joining', 'DOW of Joining', 'Short DOW',\n",
       "       'Age in Company (Years)', 'Salary', 'Last % Hike', 'SSN',\n",
       "       'Phone No. ', 'Place Name', 'County', 'City', 'State', 'Zip',\n",
       "       'Region', 'User Name', 'Password'], dtype=object)"
      ]
     },
     "execution_count": 5,
     "metadata": {},
     "output_type": "execute_result"
    }
   ],
   "source": [
    "data.columns.values"
   ]
  },
  {
   "cell_type": "code",
   "execution_count": 11,
   "id": "9f8ad271",
   "metadata": {},
   "outputs": [
    {
     "data": {
      "text/plain": [
       "Quarter of Joining  Gender\n",
       "Q1                  F         609295\n",
       "                    M         609202\n",
       "Q2                  M         638439\n",
       "                    F         637991\n",
       "Q3                  F         653025\n",
       "                    M         650897\n",
       "Q4                  F         600821\n",
       "                    M         600330\n",
       "Name: Gender, dtype: int64"
      ]
     },
     "execution_count": 11,
     "metadata": {},
     "output_type": "execute_result"
    }
   ],
   "source": [
    "data.groupby(\"Quarter of Joining\")[\"Gender\"].value_counts()"
   ]
  },
  {
   "cell_type": "code",
   "execution_count": 12,
   "id": "6f043b5e",
   "metadata": {},
   "outputs": [
    {
     "data": {
      "text/plain": [
       "Quarter of Joining  Region   \n",
       "Q1                  South        451971\n",
       "                    Midwest      334869\n",
       "                    West         216290\n",
       "                    Northeast    215367\n",
       "Q2                  South        474178\n",
       "                    Midwest      350301\n",
       "                    Northeast    226596\n",
       "                    West         225355\n",
       "Q3                  South        483945\n",
       "                    Midwest      357793\n",
       "                    Northeast    231585\n",
       "                    West         230599\n",
       "Q4                  South        445562\n",
       "                    Midwest      329476\n",
       "                    Northeast    213436\n",
       "                    West         212677\n",
       "Name: Region, dtype: int64"
      ]
     },
     "execution_count": 12,
     "metadata": {},
     "output_type": "execute_result"
    }
   ],
   "source": [
    "data.groupby(\"Quarter of Joining\")[\"Region\"].value_counts()"
   ]
  },
  {
   "cell_type": "code",
   "execution_count": 9,
   "id": "cfec7318",
   "metadata": {},
   "outputs": [
    {
     "data": {
      "text/plain": [
       "Region     Gender\n",
       "Midwest    F         686422\n",
       "           M         686017\n",
       "Northeast  F         443718\n",
       "           M         443266\n",
       "South      M         927856\n",
       "           F         927800\n",
       "West       F         443192\n",
       "           M         441729\n",
       "Name: Gender, dtype: int64"
      ]
     },
     "execution_count": 9,
     "metadata": {},
     "output_type": "execute_result"
    }
   ],
   "source": [
    "data.groupby(\"Region\")[\"Gender\"].value_counts()"
   ]
  },
  {
   "cell_type": "code",
   "execution_count": 8,
   "id": "f44f2655",
   "metadata": {},
   "outputs": [
    {
     "data": {
      "text/plain": [
       "F    2501132\n",
       "M    2498868\n",
       "Name: Gender, dtype: int64"
      ]
     },
     "execution_count": 8,
     "metadata": {},
     "output_type": "execute_result"
    }
   ],
   "source": [
    "data[\"Gender\"].value_counts()"
   ]
  },
  {
   "cell_type": "code",
   "execution_count": 7,
   "id": "9dd5f6a9",
   "metadata": {},
   "outputs": [
    {
     "data": {
      "text/plain": [
       "Andre        2771\n",
       "Val          2764\n",
       "Francisco    2739\n",
       "Rory         2737\n",
       "Van          2733\n",
       "             ... \n",
       "Phuong        519\n",
       "Jayna         518\n",
       "Peggie        516\n",
       "Johnsie       510\n",
       "Bailey        507\n",
       "Name: First Name, Length: 5163, dtype: int64"
      ]
     },
     "execution_count": 7,
     "metadata": {},
     "output_type": "execute_result"
    }
   ],
   "source": [
    "data[\"First Name\"].value_counts()"
   ]
  },
  {
   "cell_type": "code",
   "execution_count": 6,
   "id": "40974443",
   "metadata": {},
   "outputs": [
    {
     "data": {
      "text/plain": [
       "Mr.      1747953\n",
       "Ms.      1110802\n",
       "Mrs.      833885\n",
       "Hon.      527759\n",
       "Drs.      278655\n",
       "Prof.     250986\n",
       "Dr.       249960\n",
       "Name: Name Prefix, dtype: int64"
      ]
     },
     "execution_count": 6,
     "metadata": {},
     "output_type": "execute_result"
    }
   ],
   "source": [
    "data[\"Name Prefix\"].value_counts()"
   ]
  },
  {
   "cell_type": "code",
   "execution_count": null,
   "id": "a75584c7",
   "metadata": {},
   "outputs": [],
   "source": []
  },
  {
   "cell_type": "code",
   "execution_count": 5,
   "id": "d69c8be0",
   "metadata": {},
   "outputs": [
    {
     "data": {
      "text/plain": [
       "Q3    1303922\n",
       "Q2    1276430\n",
       "Q1    1218497\n",
       "Q4    1201151\n",
       "Name: Quarter of Joining, dtype: int64"
      ]
     },
     "execution_count": 5,
     "metadata": {},
     "output_type": "execute_result"
    }
   ],
   "source": [
    "data[\"Quarter of Joining\"].value_counts()"
   ]
  },
  {
   "cell_type": "code",
   "execution_count": 6,
   "id": "abfc2f21",
   "metadata": {},
   "outputs": [
    {
     "data": {
      "text/plain": [
       "H2    2505073\n",
       "H1    2494927\n",
       "Name: Half of Joining, dtype: int64"
      ]
     },
     "execution_count": 6,
     "metadata": {},
     "output_type": "execute_result"
    }
   ],
   "source": [
    "data[\"Half of Joining\"].value_counts()"
   ]
  },
  {
   "cell_type": "code",
   "execution_count": 7,
   "id": "2adfddc9",
   "metadata": {},
   "outputs": [
    {
     "data": {
      "text/plain": [
       "August       468295\n",
       "July         450981\n",
       "May          434522\n",
       "June         427424\n",
       "March        422987\n",
       "April        414484\n",
       "January      413247\n",
       "December     408721\n",
       "October      400048\n",
       "November     392382\n",
       "September    384646\n",
       "February     382263\n",
       "Name: Month Name of Joining, dtype: int64"
      ]
     },
     "execution_count": 7,
     "metadata": {},
     "output_type": "execute_result"
    }
   ],
   "source": [
    "data[\"Month Name of Joining\"].value_counts()"
   ]
  },
  {
   "cell_type": "code",
   "execution_count": 8,
   "id": "e4618d01",
   "metadata": {},
   "outputs": [
    {
     "data": {
      "text/plain": [
       "Los Angeles    61870\n",
       "Jefferson      58354\n",
       "Washington     55558\n",
       "Montgomery     46164\n",
       "Orange         39923\n",
       "               ...  \n",
       "Newnan            77\n",
       "Sequim            76\n",
       "Keyapaha          75\n",
       "Big Rock          74\n",
       "Paris             73\n",
       "Name: County, Length: 2752, dtype: int64"
      ]
     },
     "execution_count": 8,
     "metadata": {},
     "output_type": "execute_result"
    }
   ],
   "source": [
    "data[\"County\"].value_counts()"
   ]
  },
  {
   "cell_type": "code",
   "execution_count": 9,
   "id": "00dccce6",
   "metadata": {},
   "outputs": [
    {
     "data": {
      "text/plain": [
       "Washington               37753\n",
       "Houston                  23423\n",
       "New York City            19153\n",
       "El Paso                  18438\n",
       "Dallas                   15789\n",
       "                         ...  \n",
       "Brill                       64\n",
       "Bodega                      63\n",
       "Benham                      61\n",
       "Graves Mill                 61\n",
       "Truth Or Consequences       50\n",
       "Name: City, Length: 19206, dtype: int64"
      ]
     },
     "execution_count": 9,
     "metadata": {},
     "output_type": "execute_result"
    }
   ],
   "source": [
    "data[\"City\"].value_counts()"
   ]
  },
  {
   "cell_type": "code",
   "execution_count": 10,
   "id": "88a94e81",
   "metadata": {},
   "outputs": [
    {
     "data": {
      "text/plain": [
       "2019    453886\n",
       "2020    433118\n",
       "2018    371069\n",
       "2017    322117\n",
       "2016    287230\n",
       "2015    259703\n",
       "2014    235958\n",
       "2013    218186\n",
       "2012    200582\n",
       "2011    186234\n",
       "2010    172004\n",
       "2009    159892\n",
       "2008    149995\n",
       "2007    138369\n",
       "2006    129797\n",
       "2005    121327\n",
       "2004    113178\n",
       "2003    105185\n",
       "2002     98139\n",
       "2001     90776\n",
       "2000     84794\n",
       "1999     78530\n",
       "1998     72810\n",
       "1997     66909\n",
       "1996     61681\n",
       "1995     56097\n",
       "1994     51529\n",
       "1993     46423\n",
       "1992     41766\n",
       "1991     36882\n",
       "1990     32917\n",
       "1989     28882\n",
       "1988     24933\n",
       "1987     20726\n",
       "1986     17088\n",
       "1985     12926\n",
       "1984      9480\n",
       "1983      6106\n",
       "1982      2638\n",
       "1981       138\n",
       "Name: Year of Joining, dtype: int64"
      ]
     },
     "execution_count": 10,
     "metadata": {},
     "output_type": "execute_result"
    }
   ],
   "source": [
    "data[\"Year of Joining\"].value_counts()"
   ]
  },
  {
   "cell_type": "code",
   "execution_count": 11,
   "id": "112a0066",
   "metadata": {},
   "outputs": [
    {
     "data": {
      "text/plain": [
       "South        1855656\n",
       "Midwest      1372439\n",
       "Northeast     886984\n",
       "West          884921\n",
       "Name: Region, dtype: int64"
      ]
     },
     "execution_count": 11,
     "metadata": {},
     "output_type": "execute_result"
    }
   ],
   "source": [
    "data[\"Region\"].value_counts()"
   ]
  },
  {
   "cell_type": "code",
   "execution_count": 12,
   "id": "c537700a",
   "metadata": {},
   "outputs": [
    {
     "data": {
      "text/plain": [
       "Washington               37753\n",
       "Houston                  23423\n",
       "New York City            19153\n",
       "El Paso                  18438\n",
       "Dallas                   15789\n",
       "                         ...  \n",
       "Brill                       64\n",
       "Bodega                      63\n",
       "Benham                      61\n",
       "Graves Mill                 61\n",
       "Truth Or Consequences       50\n",
       "Name: Place Name, Length: 19206, dtype: int64"
      ]
     },
     "execution_count": 12,
     "metadata": {},
     "output_type": "execute_result"
    }
   ],
   "source": [
    "data[\"Place Name\"].value_counts()"
   ]
  },
  {
   "cell_type": "code",
   "execution_count": null,
   "id": "fab3aa49",
   "metadata": {},
   "outputs": [],
   "source": []
  }
 ],
 "metadata": {
  "kernelspec": {
   "display_name": "Python 3 (ipykernel)",
   "language": "python",
   "name": "python3"
  },
  "language_info": {
   "codemirror_mode": {
    "name": "ipython",
    "version": 3
   },
   "file_extension": ".py",
   "mimetype": "text/x-python",
   "name": "python",
   "nbconvert_exporter": "python",
   "pygments_lexer": "ipython3",
   "version": "3.9.15"
  }
 },
 "nbformat": 4,
 "nbformat_minor": 5
}
